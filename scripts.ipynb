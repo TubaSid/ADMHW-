{
 "cells": [
  {
   "cell_type": "markdown",
   "id": "046f6757",
   "metadata": {},
   "source": [
    "#### Say \"Hello, World!\" With Python"
   ]
  },
  {
   "cell_type": "code",
   "execution_count": null,
   "id": "3681d88a",
   "metadata": {},
   "outputs": [],
   "source": [
    "if __name__ == '__main__':\n",
    "    print \"Hello, World!\"\n"
   ]
  },
  {
   "cell_type": "markdown",
   "id": "173861d6",
   "metadata": {},
   "source": [
    "#### Say \"Hello, World!\" With Python"
   ]
  },
  {
   "cell_type": "code",
   "execution_count": null,
   "id": "51b373fc",
   "metadata": {},
   "outputs": [],
   "source": [
    "if __name__ == '__main__':\n",
    "    print \"Hello, World!\"\n"
   ]
  },
  {
   "cell_type": "markdown",
   "id": "655cc971",
   "metadata": {},
   "source": [
    "#### Python If-Else"
   ]
  },
  {
   "cell_type": "code",
   "execution_count": null,
   "id": "eee9331e",
   "metadata": {},
   "outputs": [],
   "source": [
    "#!/bin/python\n",
    "\n",
    "import math\n",
    "import os\n",
    "import random\n",
    "import re\n",
    "import sys\n",
    "\n",
    "\n",
    "\n",
    "if __name__ == '__main__':\n",
    "    n = int(raw_input().strip())\n",
    "    if n%2==0:\n",
    "        if n in range(2,6):\n",
    "            print(\"Not Weird\")\n",
    "        elif n in range(6,21):\n",
    "            print(\"Weird\")\n",
    "        elif n>10:\n",
    "            print(\"Not Weird\")\n",
    "    else:\n",
    "         print(\"Weird\")   \n"
   ]
  },
  {
   "cell_type": "markdown",
   "id": "e3968c92",
   "metadata": {},
   "source": [
    "#### Python If-Else"
   ]
  },
  {
   "cell_type": "code",
   "execution_count": null,
   "id": "efe164dc",
   "metadata": {},
   "outputs": [],
   "source": [
    "#!/bin/python\n",
    "\n",
    "import math\n",
    "import os\n",
    "import random\n",
    "import re\n",
    "import sys\n",
    "\n",
    "\n",
    "\n",
    "if __name__ == '__main__':\n",
    "    n = int(raw_input().strip())\n",
    "    if n%2==0:\n",
    "        if n in range(2,6):\n",
    "            print(\"Not Weird\")\n",
    "        elif n in range(6,21):\n",
    "            print(\"Weird\")\n",
    "        elif n>10:\n",
    "            print(\"Not Weird\")\n",
    "    else:\n",
    "         print(\"Weird\")   \n"
   ]
  },
  {
   "cell_type": "markdown",
   "id": "82ea24a0",
   "metadata": {},
   "source": [
    "#### Arithmetic Operators"
   ]
  },
  {
   "cell_type": "code",
   "execution_count": null,
   "id": "7437878b",
   "metadata": {},
   "outputs": [],
   "source": [
    "if __name__ == '__main__':\n",
    "    a = int(raw_input())\n",
    "    b = int(raw_input())\n",
    "    print(a+b)\n",
    "    print(a-b)\n",
    "    print(a*b)\n"
   ]
  },
  {
   "cell_type": "markdown",
   "id": "d48ba9f3",
   "metadata": {},
   "source": [
    "#### Python: Division"
   ]
  },
  {
   "cell_type": "code",
   "execution_count": null,
   "id": "c4372c8b",
   "metadata": {},
   "outputs": [],
   "source": [
    "from __future__ import division\n",
    "\n",
    "if __name__ == '__main__':\n",
    "    a = int(raw_input())\n",
    "    b = int(raw_input())\n",
    "    print(a//b)\n",
    "    print(a/b)\n",
    "\n"
   ]
  },
  {
   "cell_type": "markdown",
   "id": "15eeaa47",
   "metadata": {},
   "source": [
    "#### Loops"
   ]
  },
  {
   "cell_type": "code",
   "execution_count": null,
   "id": "f13725a4",
   "metadata": {},
   "outputs": [],
   "source": [
    "if __name__ == '__main__':\n",
    "    n = int(raw_input())\n",
    "    for i in range(n):\n",
    "        if i>=0 & i<n:\n",
    "            print(i**2)\n"
   ]
  },
  {
   "cell_type": "markdown",
   "id": "198bbe48",
   "metadata": {},
   "source": [
    "#### Write a function"
   ]
  },
  {
   "cell_type": "code",
   "execution_count": null,
   "id": "51bb0856",
   "metadata": {},
   "outputs": [],
   "source": [
    "def is_leap(year):\n",
    "    leap = False\n",
    "    \n",
    "    # Write your logic here\n",
    "    if year%4==0:\n",
    "        leap=True\n",
    "        if year%100==0:\n",
    "            leap=False\n",
    "            if year%400==0:\n",
    "                leap=True\n",
    "            \n",
    "       \n",
    "    \n",
    "    return leap\n",
    "\n"
   ]
  },
  {
   "cell_type": "markdown",
   "id": "ebab5435",
   "metadata": {},
   "source": [
    "#### Write a function"
   ]
  },
  {
   "cell_type": "code",
   "execution_count": null,
   "id": "e0476b50",
   "metadata": {},
   "outputs": [],
   "source": [
    "def is_leap(year):\n",
    "    leap = False\n",
    "    \n",
    "    # Write your logic here\n",
    "    if year%4==0:\n",
    "        leap=True\n",
    "        if year%100==0:\n",
    "            leap=False\n",
    "            if year%400==0:\n",
    "                leap=True\n",
    "            \n",
    "       \n",
    "    \n",
    "    return leap\n",
    "\n"
   ]
  },
  {
   "cell_type": "markdown",
   "id": "ba6088fb",
   "metadata": {},
   "source": [
    "#### Print Function"
   ]
  },
  {
   "cell_type": "code",
   "execution_count": null,
   "id": "3038d1f4",
   "metadata": {},
   "outputs": [],
   "source": [
    "from __future__ import print_function\n",
    "\n",
    "if __name__ == '__main__':\n",
    "    n = int(raw_input())\n",
    "    k=1\n",
    "    i=0\n",
    "    for i in range(n):\n",
    "        if i<=n:\n",
    "            print(i+1,end=\"\")\n"
   ]
  },
  {
   "cell_type": "markdown",
   "id": "4e375999",
   "metadata": {},
   "source": [
    "#### List Comprehensions"
   ]
  },
  {
   "cell_type": "code",
   "execution_count": null,
   "id": "6de2d424",
   "metadata": {},
   "outputs": [],
   "source": [
    "if __name__ == '__main__':\n",
    "    x = int(raw_input())\n",
    "    y = int(raw_input())\n",
    "    z = int(raw_input())\n",
    "    n = int(raw_input())\n",
    "    array=[]\n",
    "    for i in range(x+1):\n",
    "        for j in range(y+1):\n",
    "            for k in range(z+1):\n",
    "                sum=0\n",
    "                sum+=i+j+k\n",
    "                if sum!=n:\n",
    "                    array.append([i,j,k])\n",
    "print(array)\n"
   ]
  },
  {
   "cell_type": "markdown",
   "id": "8bfc3a50",
   "metadata": {},
   "source": [
    "#### Find the Runner-Up Score!  "
   ]
  },
  {
   "cell_type": "code",
   "execution_count": null,
   "id": "94a454df",
   "metadata": {},
   "outputs": [],
   "source": [
    "if __name__ == '__main__':\n",
    "    n = int(raw_input())\n",
    "    arr = map(int, raw_input().split())\n",
    "    array=[]\n",
    "    array=list(dict.fromkeys(arr))\n",
    "    n=len(array)\n",
    "    for j in range(n):      \n",
    "        for i in range(j):\n",
    "            if array[i]>array[j]:\n",
    "                c=array[j]\n",
    "                array[j]=array[i]\n",
    "                array[i]=c\n",
    "    \n",
    "    array.reverse()\n",
    "    if len(array)<2:\n",
    "        print(array[0])\n",
    "    else:\n",
    "        print(array[1])\n",
    "            \n",
    "        \n",
    "            \n"
   ]
  },
  {
   "cell_type": "markdown",
   "id": "3008a219",
   "metadata": {},
   "source": [
    "#### Nested Lists"
   ]
  },
  {
   "cell_type": "code",
   "execution_count": null,
   "id": "6f9b8129",
   "metadata": {},
   "outputs": [],
   "source": [
    "if __name__ == '__main__':\n",
    "\n",
    "    # -*- coding: utf-8 -*-\n",
    "    \"\"\"\n",
    "    Created on Fri Jul  9 18:31:15 2021\n",
    "    \n",
    "    @author: teesid\n",
    "    \"\"\"\n",
    "    \n",
    "    # -*- coding: utf-8 -*-\n",
    "    \"\"\"\n",
    "    Created on Thu Jul  8 22:58:30 2021\n",
    "    \n",
    "    @author: teesid\n",
    "    \"\"\"\n",
    "    \n",
    "    \n",
    "    l=0\n",
    "    idx=0\n",
    "    index=0\n",
    "    sort=[]\n",
    "    nested_list=[]\n",
    "    for i in range(int(raw_input())):\n",
    "            name=(raw_input())\n",
    "            score=(float(raw_input()))\n",
    "            nested_list.append([name,score])\n",
    "    n=len(nested_list)\n",
    "    for i in range(n):\n",
    "        for j in range(i):\n",
    "            if nested_list[i][1]>nested_list[j][1]:\n",
    "                c=nested_list[i]\n",
    "                nested_list[i]=nested_list[j]\n",
    "                nested_list[j]=c\n",
    "                \n",
    "    nested_list.reverse()\n",
    "    \n",
    "    #print(nested_list)\n",
    "    for i in range(n):\n",
    "        for j in range(i):\n",
    "            if l<1:\n",
    "                if nested_list[0][1]!=nested_list[i][1]:\n",
    "                    l+=1\n",
    "                    idx=i\n",
    "                    v=nested_list[i][1];\n",
    "            if nested_list[idx][1]==nested_list[i][1]:\n",
    "                index=i\n",
    "    #print(idx,index)   \n",
    "    #print(nested_list[1][1])\n",
    "    if nested_list[idx][1]==nested_list[index][1]:\n",
    "        for i in range(idx,index+1):\n",
    "            sort.append(str(nested_list[i][0]))\n",
    "    else:\n",
    "        print(nested_list[idx][0])\n",
    "        #print(\"bbb\")\n",
    "    sort.sort()\n",
    "    for i in range(len(sort)):\n",
    "        print(sort[i])\n"
   ]
  },
  {
   "cell_type": "markdown",
   "id": "e924387b",
   "metadata": {},
   "source": [
    "#### Finding the percentage"
   ]
  },
  {
   "cell_type": "code",
   "execution_count": null,
   "id": "82a18f70",
   "metadata": {},
   "outputs": [],
   "source": [
    "if __name__ == '__main__':\n",
    "    n = int(raw_input())\n",
    "    student_marks = {}\n",
    "    for _ in range(n):\n",
    "        line = raw_input().split()\n",
    "        name, scores = line[0], line[1:]\n",
    "        scores = list(map(float, scores))\n",
    "        student_marks[name] = scores\n",
    "    query_name = raw_input()\n",
    "    sum=0\n",
    "    sn=len(student_marks[query_name])\n",
    "    for i in range(sn):\n",
    "        sum+=student_marks[query_name][i]\n",
    "    avg=\"{:.2f}\".format(sum/sn)\n",
    "    print(avg)\n"
   ]
  },
  {
   "cell_type": "markdown",
   "id": "e79edee1",
   "metadata": {},
   "source": [
    "#### Sum and Prod"
   ]
  },
  {
   "cell_type": "code",
   "execution_count": null,
   "id": "de2cc26d",
   "metadata": {},
   "outputs": [],
   "source": [
    "# Enter your code here. Read input from STDIN. Print output to STDOUT\n",
    "import numpy as np\n",
    "if __name__=='__main__':\n",
    "    n, m=list(map(int,raw_input().split()))\n",
    "    array=[]\n",
    "    for i in range (n):\n",
    "        array.append(raw_input())\n",
    "        array[i]=list(map(int,array[i].split()))\n",
    "    array= np.array(array)\n",
    "    print(np.prod((np.sum(array, axis=0)),axis=0))\n",
    "\n"
   ]
  },
  {
   "cell_type": "markdown",
   "id": "ed36cfef",
   "metadata": {},
   "source": [
    "#### Day 0: Hello, World."
   ]
  },
  {
   "cell_type": "code",
   "execution_count": null,
   "id": "d5bc0e9f",
   "metadata": {},
   "outputs": [],
   "source": [
    "# Read a full line of input from stdin and save it to our dynamically typed variable, input_string.\n",
    "input_string = input()\n",
    "\n",
    "# Print a string literal saying \"Hello, World.\" to stdout.\n",
    "print('Hello, World.')\n",
    "print(input_string)\n",
    "\n",
    "# TODO: Write a line of code here that prints the contents of input_string to stdout.\n"
   ]
  },
  {
   "cell_type": "markdown",
   "id": "2153aa48",
   "metadata": {},
   "source": [
    "#### Day 0: Hello, World."
   ]
  },
  {
   "cell_type": "code",
   "execution_count": null,
   "id": "6f13ccec",
   "metadata": {},
   "outputs": [],
   "source": [
    "# Read a full line of input from stdin and save it to our dynamically typed variable, input_string.\n",
    "input_string = input()\n",
    "\n",
    "# Print a string literal saying \"Hello, World.\" to stdout.\n",
    "print('Hello, World.')\n",
    "print(input_string)\n",
    "\n",
    "# TODO: Write a line of code here that prints the contents of input_string to stdout.\n"
   ]
  },
  {
   "cell_type": "markdown",
   "id": "9a72243d",
   "metadata": {},
   "source": [
    "#### Lists"
   ]
  },
  {
   "cell_type": "code",
   "execution_count": null,
   "id": "1a0a31cb",
   "metadata": {},
   "outputs": [],
   "source": [
    "\n",
    "\n",
    "if __name__ == '__main__':\n",
    "    N = int(input())\n",
    "    \n",
    "    arr=[]\n",
    "    array=[]\n",
    "    for i in range(N):\n",
    "        array.append(input())\n",
    "    #for i in range(N):\n",
    "        c=len(array[i].split())\n",
    "        if c==1:\n",
    "            func=(array[i].split())     \n",
    "            if func==[\"pop\"]:\n",
    "                arr.pop()\n",
    "                #print(arr)\n",
    "            elif func==[\"print\"]:\n",
    "                print(arr)\n",
    "            elif func==[\"reverse\"]:\n",
    "                arr.reverse()\n",
    "                #print(arr)\n",
    "            elif func==[\"sort\"]:\n",
    "                arr.sort()\n",
    "                #print(arr)\n",
    "        elif c==2:\n",
    "            func, val=(array[i].split())\n",
    "            if func==\"append\":\n",
    "                arr.append(int(val))\n",
    "                #print(arr)\n",
    "            elif func==\"remove\":\n",
    "                #print(val)\n",
    "                arr.remove(int(val))\n",
    "                #print(arr)\n",
    "        elif c==3:\n",
    "            func, idx, val=(array[i].split())\n",
    "            if func==\"insert\":\n",
    "                arr.insert(int(idx),int(val))\n",
    "                #print(arr)\n",
    "\n",
    "\n",
    "        \n"
   ]
  },
  {
   "cell_type": "markdown",
   "id": "fd60c389",
   "metadata": {},
   "source": [
    "#### Tuples "
   ]
  },
  {
   "cell_type": "code",
   "execution_count": null,
   "id": "62d9f50d",
   "metadata": {},
   "outputs": [],
   "source": [
    "# Enter your code here. Read input from STDIN. Print output to STDOUT\n",
    "input()\n",
    "i = map(int, input().split())\n",
    "print(hash(tuple(i)))\n",
    "{\"mode\":\"full\",\"isActive\":False}\n"
   ]
  },
  {
   "cell_type": "markdown",
   "id": "4bd27dfc",
   "metadata": {},
   "source": [
    "#### sWAP cASE"
   ]
  },
  {
   "cell_type": "code",
   "execution_count": null,
   "id": "1c10e5f5",
   "metadata": {},
   "outputs": [],
   "source": [
    "def swap_case(s):\n",
    "    l=len(s)\n",
    "    sc=''\n",
    "    for i,n in enumerate(s):\n",
    "        if n.isupper():\n",
    "            swap=(n).lower()\n",
    "        else:\n",
    "            swap=(n).upper()\n",
    "        sc=sc+swap\n",
    "    return sc\n",
    "\n"
   ]
  },
  {
   "cell_type": "markdown",
   "id": "8e25e411",
   "metadata": {},
   "source": [
    "#### String Split and Join"
   ]
  },
  {
   "cell_type": "code",
   "execution_count": null,
   "id": "cb9eb423",
   "metadata": {},
   "outputs": [],
   "source": [
    "def split_and_join(line):\n",
    "    # write your code here\n",
    "    line = line.split(\" \")\n",
    "    line = \"-\".join(line)\n",
    "    return line\n"
   ]
  },
  {
   "cell_type": "markdown",
   "id": "cce575a4",
   "metadata": {},
   "source": [
    "#### String Split and Join"
   ]
  },
  {
   "cell_type": "code",
   "execution_count": null,
   "id": "a5b34153",
   "metadata": {},
   "outputs": [],
   "source": [
    "def split_and_join(line):\n",
    "    # write your code here\n",
    "    line = line.split(\" \")\n",
    "    line = \"-\".join(line)\n",
    "    return line\n"
   ]
  },
  {
   "cell_type": "markdown",
   "id": "1951b445",
   "metadata": {},
   "source": [
    "#### What's Your Name?"
   ]
  },
  {
   "cell_type": "code",
   "execution_count": null,
   "id": "701475ba",
   "metadata": {},
   "outputs": [],
   "source": [
    "#\n",
    "# Complete the 'print_full_name' function below.\n",
    "#\n",
    "# The function is expected to return a STRING.\n",
    "# The function accepts following parameters:\n",
    "#  1. STRING first\n",
    "#  2. STRING last\n",
    "#\n",
    "\n",
    "def print_full_name(first, last):\n",
    "    # Write your code here\n",
    "    print(\"Hello \"+first+\" \"+last+\"! You just delved into python.\")\n"
   ]
  },
  {
   "cell_type": "markdown",
   "id": "e933af73",
   "metadata": {},
   "source": [
    "#### Mutations"
   ]
  },
  {
   "cell_type": "code",
   "execution_count": null,
   "id": "987ec863",
   "metadata": {},
   "outputs": [],
   "source": [
    "def mutate_string(string, position, character):\n",
    "    string = string[:position] + character + string[position+1:]\n",
    "    return string\n",
    "\n"
   ]
  },
  {
   "cell_type": "markdown",
   "id": "5a63371e",
   "metadata": {},
   "source": [
    "#### Find a string"
   ]
  },
  {
   "cell_type": "code",
   "execution_count": null,
   "id": "70216cd5",
   "metadata": {},
   "outputs": [],
   "source": [
    "def count_substring(string, sub_string):\n",
    "    sbl=len(sub_string)\n",
    "    sl = len(string)\n",
    "    c=0\n",
    "    for i in range(sl):\n",
    "        if sub_string==string[i:i+sbl]:\n",
    "            c+=1\n",
    "    return c\n",
    "\n"
   ]
  },
  {
   "cell_type": "markdown",
   "id": "45022a1d",
   "metadata": {},
   "source": [
    "#### Find a string"
   ]
  },
  {
   "cell_type": "code",
   "execution_count": null,
   "id": "b44892c5",
   "metadata": {},
   "outputs": [],
   "source": [
    "def count_substring(string, sub_string):\n",
    "    sbl=len(sub_string)\n",
    "    sl = len(string)\n",
    "    c=0\n",
    "    for i in range(sl):\n",
    "        if sub_string==string[i:i+sbl]:\n",
    "            c+=1\n",
    "    return c\n",
    "\n"
   ]
  },
  {
   "cell_type": "markdown",
   "id": "90af5908",
   "metadata": {},
   "source": [
    "#### String Validators"
   ]
  },
  {
   "cell_type": "code",
   "execution_count": null,
   "id": "7a9fb915",
   "metadata": {},
   "outputs": [],
   "source": [
    "if __name__ == '__main__':\n",
    "    s = input()\n",
    "    for method in [str.isalnum, str.isalpha, str.isdigit, str.islower, str.isupper]:\n",
    "        print(any(method(c) for c in s))\n"
   ]
  },
  {
   "cell_type": "markdown",
   "id": "420ba3bc",
   "metadata": {},
   "source": [
    "#### Text Alignment"
   ]
  },
  {
   "cell_type": "code",
   "execution_count": null,
   "id": "db0aabd3",
   "metadata": {},
   "outputs": [],
   "source": [
    "#Replace all ______ with rjust, ljust or center. \n",
    "\n",
    "thickness = int(input()) #This must be an odd number\n",
    "c = 'H'\n",
    "\n",
    "#Top Cone\n",
    "for i in range(thickness):\n",
    "    print((c*i).rjust(thickness-1)+c+(c*i).ljust(thickness-1))\n",
    "\n",
    "#Top Pillars\n",
    "for i in range(thickness+1):\n",
    "    print((c*thickness).center(thickness*2)+(c*thickness).center(thickness*6))\n",
    "\n",
    "#Middle Belt\n",
    "for i in range((thickness+1)//2):\n",
    "    print((c*thickness*5).center(thickness*6))    \n",
    "\n",
    "#Bottom Pillars\n",
    "for i in range(thickness+1):\n",
    "    print((c*thickness).center(thickness*2)+(c*thickness).center(thickness*6))    \n",
    "\n",
    "#Bottom Cone\n",
    "for i in range(thickness):\n",
    "    print(((c*(thickness-i-1)).rjust(thickness)+c+(c*(thickness-i-1)).ljust(thickness)).rjust(thickness*6))\n"
   ]
  },
  {
   "cell_type": "markdown",
   "id": "7a46c408",
   "metadata": {},
   "source": [
    "#### Text Wrap"
   ]
  },
  {
   "cell_type": "code",
   "execution_count": null,
   "id": "674f3a1c",
   "metadata": {},
   "outputs": [],
   "source": [
    "\n",
    "def wrap(string, max_width):\n",
    "\n",
    "   \n",
    "    return '\\n'.join(string[i:i+max_width] for i in range(0,len(string),max_width) )\n",
    "    \n",
    "\n"
   ]
  },
  {
   "cell_type": "markdown",
   "id": "d8c0e124",
   "metadata": {},
   "source": [
    "#### Designer Door Mat"
   ]
  },
  {
   "cell_type": "code",
   "execution_count": null,
   "id": "20bce9c4",
   "metadata": {},
   "outputs": [],
   "source": [
    "n, m = map(int,input().split())\n",
    "pattern = [('.|.'*(2*i + 1)).center(m, '-') for i in range(n//2)]\n",
    "print('\\n'.join(pattern + ['WELCOME'.center(m, '-')] + pattern[::-1]))\n"
   ]
  },
  {
   "cell_type": "markdown",
   "id": "c9b3c6ac",
   "metadata": {},
   "source": [
    "#### String Formatting"
   ]
  },
  {
   "cell_type": "code",
   "execution_count": null,
   "id": "457f98c7",
   "metadata": {},
   "outputs": [],
   "source": [
    "def print_formatted(number):\n",
    "    # your code goes here\n",
    "    \n",
    "\n",
    "    n = number\n",
    "    m = n\n",
    "    w = 0\n",
    "    while m > 0:\n",
    "        m //= 2\n",
    "        w += 1\n",
    "    fom = \"{0:\" + str(w) + \"d} \" +\"{0:\" + str(w) + \"o} \" +\"{0:\" + str(w) + \"X} \" +\"{0:\" + str(w) + \"b} \"\n",
    "\n",
    "    for i in range(1,n+1):\n",
    "        print(fom.format(i))\n",
    "\n"
   ]
  },
  {
   "cell_type": "markdown",
   "id": "423cf67e",
   "metadata": {},
   "source": [
    "#### Alphabet Rangoli"
   ]
  },
  {
   "cell_type": "code",
   "execution_count": null,
   "id": "703a4227",
   "metadata": {},
   "outputs": [],
   "source": [
    "import string\n",
    "def print_rangoli(size):\n",
    "\n",
    "        \n",
    "\n",
    "    alpha = string.ascii_lowercase\n",
    "\n",
    "    num = size\n",
    "\n",
    "    def srange(N):\n",
    "        return list(range(N))+list(range(N-2,-1,-1))\n",
    "\n",
    "    for i in srange(num):\n",
    "        print('-'.join([alpha[num-j-1] for j in srange(i+1)]).center(4*(num-1)+1,'-'))\n"
   ]
  },
  {
   "cell_type": "markdown",
   "id": "a0fc6210",
   "metadata": {},
   "source": [
    "#### Alphabet Rangoli"
   ]
  },
  {
   "cell_type": "code",
   "execution_count": null,
   "id": "d3cafd8b",
   "metadata": {},
   "outputs": [],
   "source": [
    "import string\n",
    "def print_rangoli(size):\n",
    "\n",
    "        \n",
    "\n",
    "    alpha = string.ascii_lowercase\n",
    "\n",
    "    num = size\n",
    "\n",
    "    def srange(N):\n",
    "        return list(range(N))+list(range(N-2,-1,-1))\n",
    "\n",
    "    for i in srange(num):\n",
    "        print('-'.join([alpha[num-j-1] for j in srange(i+1)]).center(4*(num-1)+1,'-'))\n"
   ]
  },
  {
   "cell_type": "markdown",
   "id": "23c8cdc2",
   "metadata": {},
   "source": [
    "#### Capitalize!"
   ]
  },
  {
   "cell_type": "code",
   "execution_count": null,
   "id": "089efde4",
   "metadata": {},
   "outputs": [],
   "source": [
    "\n",
    "\n",
    "# Complete the solve function below.\n",
    "def solve(s):\n",
    "    \n",
    "    for x in s[:].split():\n",
    "        s = s.replace(x, x.capitalize())\n",
    "    print(s)\n",
    "    return s\n"
   ]
  }
 ],
 "metadata": {
  "kernelspec": {
   "display_name": "Python 3 (ipykernel)",
   "language": "python",
   "name": "python3"
  },
  "language_info": {
   "codemirror_mode": {
    "name": "ipython",
    "version": 3
   },
   "file_extension": ".py",
   "mimetype": "text/x-python",
   "name": "python",
   "nbconvert_exporter": "python",
   "pygments_lexer": "ipython3",
   "version": "3.9.12"
  }
 },
 "nbformat": 4,
 "nbformat_minor": 5
}
